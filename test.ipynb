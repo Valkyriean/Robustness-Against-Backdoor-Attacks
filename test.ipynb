{
 "cells": [
  {
   "cell_type": "code",
   "execution_count": 1,
   "id": "dcb33947",
   "metadata": {},
   "outputs": [],
   "source": [
    "import numpy as np\n",
    "import torch\n",
    "import torchvision\n",
    "import torchvision.transforms as transforms\n",
    "from datetime import datetime\n",
    "import os\n",
    "from utils import train_model, eval_model, SmoothedDataset, certificate_over_dataset\n",
    "from attack_lib import attack_setting\n",
    "from hashlib import sha256\n"
   ]
  },
  {
   "cell_type": "code",
   "execution_count": 2,
   "id": "10db6eaa",
   "metadata": {},
   "outputs": [
    {
     "name": "stdout",
     "output_type": "stream",
     "text": [
      "Non-target testset size: 1000\n",
      "testset size: 2000\n",
      "Poisoned testset size: 1000\n"
     ]
    }
   ],
   "source": [
    "args = {\n",
    "    'dataset': 'cifar',\n",
    "    'pair_id': 0,\n",
    "    'atk_method': 'onepixel',\n",
    "    'poison_r': 0.1,\n",
    "    'delta': 1,\n",
    "    'N_m': 10,\n",
    "    'sigma': 1,\n",
    "}\n",
    "PREFIX = './saved_model/%s%s-%s(%.4f)-pr%.4f-sigma%.4f'%(args['dataset'], 'binary', args['atk_method'], args['delta'], args['poison_r'], args['sigma'])\n",
    "\n",
    "np.random.seed(42)\n",
    "torch.manual_seed(42)\n",
    "poisoned_train, testloader_benign, testloader_poison, BATCH_SIZE, N_EPOCH, LR, Model = attack_setting(args, test_label_poison=True)\n"
   ]
  },
  {
   "cell_type": "code",
   "execution_count": 3,
   "id": "f9e3e6d1",
   "metadata": {},
   "outputs": [
    {
     "name": "stdout",
     "output_type": "stream",
     "text": [
      "Benign/Poison ACC 0.6540/0.6480\n",
      "Benign/Poison ACC 0.6985/0.5520\n",
      "Benign/Poison ACC 0.6680/0.6080\n",
      "Benign/Poison ACC 0.6665/0.5940\n",
      "Benign/Poison ACC 0.6630/0.6320\n",
      "Benign/Poison ACC 0.7700/0.2600\n",
      "Benign/Poison ACC 0.7715/0.1490\n",
      "Benign/Poison ACC 0.5110/0.1730\n",
      "Benign/Poison ACC 0.7450/0.4280\n",
      "Benign/Poison ACC 0.5435/0.9030\n"
     ]
    }
   ],
   "source": [
    "for _ in range(args['N_m']):\n",
    "        model = Model(gpu=True)\n",
    "        model.load_state_dict(torch.load(PREFIX+'/smoothed_%d.model'%_))\n",
    "        if args['sigma'] != 0:\n",
    "            hashval = int(sha256(open(PREFIX+'/smoothed_%d.model'%_, 'rb').read()).hexdigest(), 16) % (2**32)\n",
    "            model.fix_pert(sigma=args['sigma'], hash_num=hashval)\n",
    "        acc_benign = eval_model(model, testloader_benign)\n",
    "        acc_poison = eval_model(model, testloader_poison)\n",
    "        if args['sigma'] != 0:\n",
    "            model.unfix_pert()\n",
    "        print (\"Benign/Poison ACC %.4f/%.4f\"%(acc_benign, acc_poison))\n"
   ]
  },
  {
   "cell_type": "code",
   "execution_count": 5,
   "id": "d1743359",
   "metadata": {},
   "outputs": [
    {
     "name": "stdout",
     "output_type": "stream",
     "text": [
      "Non-target testset size: 1000\n",
      "testset size: 2000\n",
      "Poisoned testset size: 1000\n"
     ]
    },
    {
     "name": "stderr",
     "output_type": "stream",
     "text": [
      "100%|██████████| 10/10 [00:02<00:00,  4.01it/s]"
     ]
    },
    {
     "name": "stdout",
     "output_type": "stream",
     "text": [
      "Attack Success Rate (ASR): 0.3950\n",
      "PA: 66.10%, PB: 33.90%, RA: 60.50\n",
      "Certified Radius: 1\n",
      "Cert acc: 0.00000\n",
      "Cond acc: nan\n",
      "Cert ratio: 0.00000\n",
      "Expected Cert acc: 0.38500\n",
      "Expected Cond acc: 0.63742\n",
      "Expected Cert ratio: 0.60400\n"
     ]
    },
    {
     "name": "stderr",
     "output_type": "stream",
     "text": [
      "\n",
      "C:\\Users\\phant\\AppData\\Local\\Temp\\ipykernel_42184\\3265059726.py:21: RuntimeWarning: invalid value encountered in scalar divide\n",
      "  cond_acc.append(np.logical_and(cert_bound>r, is_acc).sum() / (cert_bound>r).sum())\n"
     ]
    }
   ],
   "source": [
    "poisoned_train, testloader_benign, testloader_poison, BATCH_SIZE, N_EPOCH, LR, Model = attack_setting(args, test_label_poison=False)\n",
    "pa_exp, pb_exp, is_acc = certificate_over_dataset(model, testloader_poison, PREFIX, args['N_m'], args['sigma'])\n",
    "print(f'PA: {pa_exp.mean()* 100:.2f}%, PB: {pb_exp.mean()* 100:.2f}%, RA: {is_acc.mean()* 100:.2f}')\n",
    "heof_factor = np.sqrt(np.log(1/0.0001)/2/args['N_m'])\n",
    "pa = np.maximum(1e-8, pa_exp - heof_factor)\n",
    "pb = np.minimum(1-1e-8, pb_exp + heof_factor)\n",
    "from scipy.stats import norm\n",
    "\n",
    "# Calculate the metrics\n",
    "cert_bound = 0.5 * args['sigma'] * (norm.ppf(pa) - norm.ppf(pb))/np.sqrt(args['poison_r'])\n",
    "cert_bound_exp = 0.5 * args['sigma'] * (norm.ppf(pa_exp) - norm.ppf(pb_exp))/np.sqrt(args['poison_r']) # Also calculate the bound using expected value.\n",
    "rad = [args['delta']]\n",
    "cert_acc = []\n",
    "cond_acc = []\n",
    "cert_ratio = []\n",
    "cert_acc_exp = []\n",
    "cond_acc_exp = []\n",
    "cert_ratio_exp = []\n",
    "for r in rad:\n",
    "    cert_acc.append(np.logical_and(cert_bound>r, is_acc).mean())\n",
    "    cond_acc.append(np.logical_and(cert_bound>r, is_acc).sum() / (cert_bound>r).sum())\n",
    "    cert_ratio.append((cert_bound>r).mean())\n",
    "    cert_acc_exp.append(np.logical_and(cert_bound_exp>r, is_acc).mean())\n",
    "    cond_acc_exp.append(np.logical_and(cert_bound_exp>r, is_acc).sum() / (cert_bound_exp>r).sum())\n",
    "    cert_ratio_exp.append((cert_bound_exp>r).mean())\n",
    "print (\"Certified Radius:\", ' / '.join([str(r) for r in rad]))\n",
    "print (\"Cert acc:\", ' / '.join(['%.5f'%x for x in cert_acc]))\n",
    "print (\"Cond acc:\", ' / '.join(['%.5f'%x for x in cond_acc]))\n",
    "print (\"Cert ratio:\", ' / '.join(['%.5f'%x for x in cert_ratio]))\n",
    "print (\"Expected Cert acc:\", ' / '.join(['%.5f'%x for x in cert_acc_exp]))\n",
    "print (\"Expected Cond acc:\", ' / '.join(['%.5f'%x for x in cond_acc_exp]))\n",
    "print (\"Expected Cert ratio:\", ' / '.join(['%.5f'%x for x in cert_ratio_exp]))\n"
   ]
  }
 ],
 "metadata": {
  "kernelspec": {
   "display_name": "rab",
   "language": "python",
   "name": "python3"
  },
  "language_info": {
   "codemirror_mode": {
    "name": "ipython",
    "version": 3
   },
   "file_extension": ".py",
   "mimetype": "text/x-python",
   "name": "python",
   "nbconvert_exporter": "python",
   "pygments_lexer": "ipython3",
   "version": "3.12.9"
  }
 },
 "nbformat": 4,
 "nbformat_minor": 5
}
